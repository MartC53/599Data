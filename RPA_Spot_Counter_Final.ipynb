{
  "nbformat": 4,
  "nbformat_minor": 0,
  "metadata": {
    "colab": {
      "name": "RPA Spot Counter_Final.ipynb",
      "provenance": [],
      "include_colab_link": true
    },
    "kernelspec": {
      "name": "python3",
      "display_name": "Python 3"
    },
    "language_info": {
      "name": "python"
    },
    "widgets": {
      "application/vnd.jupyter.widget-state+json": {
        "cb026a72983c4b958a609f185110d33c": {
          "model_module": "@jupyter-widgets/controls",
          "model_name": "VBoxModel",
          "state": {
            "_view_name": "VBoxView",
            "_dom_classes": [
              "widget-interact"
            ],
            "_model_name": "VBoxModel",
            "_view_module": "@jupyter-widgets/controls",
            "_model_module_version": "1.5.0",
            "_view_count": null,
            "_view_module_version": "1.5.0",
            "box_style": "",
            "layout": "IPY_MODEL_1b241a8d03984f798ff6500aac936de9",
            "_model_module": "@jupyter-widgets/controls",
            "children": [
              "IPY_MODEL_855c5bd0fa0f4025b38d939096b2ae3c",
              "IPY_MODEL_61faa85354134855b41a3e40462803b6"
            ]
          }
        },
        "1b241a8d03984f798ff6500aac936de9": {
          "model_module": "@jupyter-widgets/base",
          "model_name": "LayoutModel",
          "state": {
            "_view_name": "LayoutView",
            "grid_template_rows": null,
            "right": null,
            "justify_content": null,
            "_view_module": "@jupyter-widgets/base",
            "overflow": null,
            "_model_module_version": "1.2.0",
            "_view_count": null,
            "flex_flow": null,
            "width": null,
            "min_width": null,
            "border": null,
            "align_items": null,
            "bottom": null,
            "_model_module": "@jupyter-widgets/base",
            "top": null,
            "grid_column": null,
            "overflow_y": null,
            "overflow_x": null,
            "grid_auto_flow": null,
            "grid_area": null,
            "grid_template_columns": null,
            "flex": null,
            "_model_name": "LayoutModel",
            "justify_items": null,
            "grid_row": null,
            "max_height": null,
            "align_content": null,
            "visibility": null,
            "align_self": null,
            "height": null,
            "min_height": null,
            "padding": null,
            "grid_auto_rows": null,
            "grid_gap": null,
            "max_width": null,
            "order": null,
            "_view_module_version": "1.2.0",
            "grid_template_areas": null,
            "object_position": null,
            "object_fit": null,
            "grid_auto_columns": null,
            "margin": null,
            "display": null,
            "left": null
          }
        },
        "855c5bd0fa0f4025b38d939096b2ae3c": {
          "model_module": "@jupyter-widgets/controls",
          "model_name": "IntSliderModel",
          "state": {
            "_view_name": "IntSliderView",
            "style": "IPY_MODEL_30b5f5dc5a134931b882b2ff21f0d9f9",
            "_dom_classes": [],
            "description": "i",
            "step": 10,
            "_model_name": "IntSliderModel",
            "orientation": "horizontal",
            "max": 1199,
            "_view_module": "@jupyter-widgets/controls",
            "_model_module_version": "1.5.0",
            "value": 930,
            "_view_count": null,
            "disabled": false,
            "_view_module_version": "1.5.0",
            "min": 0,
            "continuous_update": true,
            "readout_format": "d",
            "description_tooltip": null,
            "readout": true,
            "_model_module": "@jupyter-widgets/controls",
            "layout": "IPY_MODEL_21803194f60a45ac81738ab352c4b841"
          }
        },
        "61faa85354134855b41a3e40462803b6": {
          "model_module": "@jupyter-widgets/output",
          "model_name": "OutputModel",
          "state": {
            "_view_name": "OutputView",
            "msg_id": "",
            "_dom_classes": [],
            "_model_name": "OutputModel",
            "outputs": [
              {
                "output_type": "display_data",
                "metadata": {
                  "tags": [],
                  "needs_background": "light"
                },
                "image/png": "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\n",
                "text/plain": "<Figure size 432x288 with 1 Axes>"
              }
            ],
            "_view_module": "@jupyter-widgets/output",
            "_model_module_version": "1.0.0",
            "_view_count": null,
            "_view_module_version": "1.0.0",
            "layout": "IPY_MODEL_256ab307be8f4e6181cd21d4efecb469",
            "_model_module": "@jupyter-widgets/output"
          }
        },
        "30b5f5dc5a134931b882b2ff21f0d9f9": {
          "model_module": "@jupyter-widgets/controls",
          "model_name": "SliderStyleModel",
          "state": {
            "_view_name": "StyleView",
            "handle_color": null,
            "_model_name": "SliderStyleModel",
            "description_width": "",
            "_view_module": "@jupyter-widgets/base",
            "_model_module_version": "1.5.0",
            "_view_count": null,
            "_view_module_version": "1.2.0",
            "_model_module": "@jupyter-widgets/controls"
          }
        },
        "21803194f60a45ac81738ab352c4b841": {
          "model_module": "@jupyter-widgets/base",
          "model_name": "LayoutModel",
          "state": {
            "_view_name": "LayoutView",
            "grid_template_rows": null,
            "right": null,
            "justify_content": null,
            "_view_module": "@jupyter-widgets/base",
            "overflow": null,
            "_model_module_version": "1.2.0",
            "_view_count": null,
            "flex_flow": null,
            "width": null,
            "min_width": null,
            "border": null,
            "align_items": null,
            "bottom": null,
            "_model_module": "@jupyter-widgets/base",
            "top": null,
            "grid_column": null,
            "overflow_y": null,
            "overflow_x": null,
            "grid_auto_flow": null,
            "grid_area": null,
            "grid_template_columns": null,
            "flex": null,
            "_model_name": "LayoutModel",
            "justify_items": null,
            "grid_row": null,
            "max_height": null,
            "align_content": null,
            "visibility": null,
            "align_self": null,
            "height": null,
            "min_height": null,
            "padding": null,
            "grid_auto_rows": null,
            "grid_gap": null,
            "max_width": null,
            "order": null,
            "_view_module_version": "1.2.0",
            "grid_template_areas": null,
            "object_position": null,
            "object_fit": null,
            "grid_auto_columns": null,
            "margin": null,
            "display": null,
            "left": null
          }
        },
        "256ab307be8f4e6181cd21d4efecb469": {
          "model_module": "@jupyter-widgets/base",
          "model_name": "LayoutModel",
          "state": {
            "_view_name": "LayoutView",
            "grid_template_rows": null,
            "right": null,
            "justify_content": null,
            "_view_module": "@jupyter-widgets/base",
            "overflow": null,
            "_model_module_version": "1.2.0",
            "_view_count": null,
            "flex_flow": null,
            "width": null,
            "min_width": null,
            "border": null,
            "align_items": null,
            "bottom": null,
            "_model_module": "@jupyter-widgets/base",
            "top": null,
            "grid_column": null,
            "overflow_y": null,
            "overflow_x": null,
            "grid_auto_flow": null,
            "grid_area": null,
            "grid_template_columns": null,
            "flex": null,
            "_model_name": "LayoutModel",
            "justify_items": null,
            "grid_row": null,
            "max_height": null,
            "align_content": null,
            "visibility": null,
            "align_self": null,
            "height": null,
            "min_height": null,
            "padding": null,
            "grid_auto_rows": null,
            "grid_gap": null,
            "max_width": null,
            "order": null,
            "_view_module_version": "1.2.0",
            "grid_template_areas": null,
            "object_position": null,
            "object_fit": null,
            "grid_auto_columns": null,
            "margin": null,
            "display": null,
            "left": null
          }
        }
      }
    }
  },
  "cells": [
    {
      "cell_type": "markdown",
      "metadata": {
        "id": "view-in-github",
        "colab_type": "text"
      },
      "source": [
        "<a href=\"https://colab.research.google.com/github/MartC53/599Data/blob/main/RPA_Spot_Counter_Final.ipynb\" target=\"_parent\"><img src=\"https://colab.research.google.com/assets/colab-badge.svg\" alt=\"Open In Colab\"/></a>"
      ]
    },
    {
      "cell_type": "markdown",
      "metadata": {
        "id": "4DsazSptPzMH"
      },
      "source": [
        "RPA Spot detection "
      ]
    },
    {
      "cell_type": "code",
      "metadata": {
        "id": "ldzrKBagPtxB",
        "colab": {
          "base_uri": "https://localhost:8080/"
        },
        "outputId": "d9ad187a-d7a6-4bf0-fde8-fa483bded5b9"
      },
      "source": [
        "import numpy as np\n",
        "import matplotlib.pyplot as plt\n",
        "from skimage import io\n",
        "from ipywidgets import interact\n",
        "from skimage.filters import gaussian\n",
        "from skimage.feature import peak_local_max\n",
        "from scipy import stats\n",
        "from google.colab import drive\n",
        "\n",
        "#Mount drive\n",
        "drive.mount('/content/drive', force_remount=True)"
      ],
      "execution_count": null,
      "outputs": [
        {
          "output_type": "stream",
          "text": [
            "Mounted at /content/drive\n"
          ],
          "name": "stdout"
        }
      ]
    },
    {
      "cell_type": "markdown",
      "metadata": {
        "id": "cN0N94klP7p8"
      },
      "source": [
        "Functions"
      ]
    },
    {
      "cell_type": "code",
      "metadata": {
        "id": "-cOMrSexQgwc"
      },
      "source": [
        "def ImportTifData(path):\n",
        "    \"\"\"Imports the example data set array as tiff files and returns as a \n",
        "  numpy array and the dimensions of the array.\n",
        "  Extended Summary:\n",
        "  -----------------\n",
        "\n",
        "  This function takes an array that contains the paths of the example data set\n",
        "  and returns the tiff data as an array. This requires access to the \"Data for \n",
        "  Sharing\" folder in google drive. The array contains the path of all the images\n",
        "  of interest for a demo of the algorithm. It also return the number of images \n",
        "  in the tif stack, lenght of image, and width of image.\n",
        "\n",
        "  String contains index of images[25cp, 50cp, 100cp, 500cp, 1000cp, 10000cp]\n",
        "  \n",
        "  Parameters:\n",
        "  -----------\n",
        "  Path: str()\n",
        "              sting containing the path of the images\n",
        "  Returns:\n",
        "  --------\n",
        "    Returns: np.array (tiff image data as a 3D numpy array)\n",
        "    Returns: np.array ([n_images, length, width])\n",
        "  Example:\n",
        "  --------\n",
        "  >>>ImportTifData(DataPath)\n",
        "  \"\"\"\n",
        "    Data = io.imread(path)\n",
        "    [n_images, length, width] = np.shape(Data)\n",
        "    return Data"
      ],
      "execution_count": null,
      "outputs": []
    },
    {
      "cell_type": "code",
      "metadata": {
        "id": "d3bRNBiNQN06"
      },
      "source": [
        "def backgroundSub(Data):\n",
        "  \"\"\"Remove the background utilizng the average of 240 frames  \n",
        "  Extended Summary: \n",
        "  -----------------\n",
        "  This funciton will take the first 240 frames, average the data, then subtract\n",
        "  it from the entire data set creating a backgorund removal dataset. \n",
        "\n",
        "  Parameters:\n",
        "  -----------\n",
        "  Data: numpy.ndarray\n",
        "        [number of images, number of pixel rows, number of pixel columns]\n",
        "\n",
        "  Returns:\n",
        "  --------\n",
        "    Data_adj: numpy.ndarray\n",
        "        [number of images, number of pixel rows, number of pixel columns] \n",
        "\n",
        "  Example:\n",
        "  --------\n",
        "  >>>background(Data)\n",
        "  \n",
        "  \"\"\"\n",
        "  import numpy as np\n",
        "  [n_images, length, width] = np.shape(Data)\n",
        "\n",
        "#Define background array \n",
        "  background = np.zeros((length, width))\n",
        "  n_bg = 240 #240 frames is the desired number of frames to average\n",
        "\n",
        "#Average the entire background data Frame 1-240\n",
        "  for i in range (0, n_bg):\n",
        "    background = background + Data[i,:,:]\n",
        "  background = background / n_bg\n",
        "\n",
        "#Subtract the background from entire dataset \n",
        "  Data_adj = np.zeros((n_images, length, width))\n",
        "  for i in range (0, n_images-1):\n",
        "    Data_adj[i,:,:] = Data[i,:,:] - background\n",
        "  Data_adj[Data_adj < 0] = 0\n",
        "  return Data_adj"
      ],
      "execution_count": null,
      "outputs": []
    },
    {
      "cell_type": "code",
      "metadata": {
        "id": "BMVOl8StPwSj"
      },
      "source": [
        "def spot_display(Data_gauss):\n",
        "  \"\"\"Show every tenth frame of the dataset with locations of spots detected\n",
        "\n",
        "  Extended Summary:\n",
        "  -----------------\n",
        "  This function displays an image stack with a slider to move between every \n",
        "  tenth frame. Locations of spots detected in each frame are shown as red dots.\n",
        "\n",
        "  Parameters:\n",
        "  -----------\n",
        "  Data_gauss: numpy.ndarray\n",
        "              [number of images, number of pixels rows, number of pixel columns]\n",
        "  \n",
        "  Returns:\n",
        "  --------\n",
        "  Interactive graph object with slider between frames, locations of detected \n",
        "  spots as red dots.\n",
        "\n",
        "  Example:\n",
        "  --------\n",
        "  >>>spot_detection(Data_gauss)\n",
        "\n",
        "  \"\"\"\n",
        "  #define spot detector parameters\n",
        "  min_distance = 4\n",
        "  threshold_rel = 0.25\n",
        "\n",
        "  #number of images to iterate over\n",
        "  n_images = np.shape(Data_gauss)[0]\n",
        "\n",
        "  def slider(i):\n",
        "    plt.imshow(Data_gauss[i,:,:], cmap='gray')\n",
        "    plt.plot(peak_local_max(Data_gauss[i,:,:], min_distance, threshold_rel = threshold_rel)[:,1], peak_local_max(Data_gauss[i,:,:], min_distance, threshold_rel = threshold_rel)[:,0], 'r.')\n",
        "    plt.axis('off')\n",
        "  inc=10\n",
        "  interact(slider, i=(0, n_images-1, inc))"
      ],
      "execution_count": null,
      "outputs": []
    },
    {
      "cell_type": "code",
      "metadata": {
        "id": "obPdx9cCQEW8"
      },
      "source": [
        "def spot_result(Data_gauss):\n",
        "  \"\"\"Counts the number of amplification spots in an RPA dataset and returns the \n",
        "    initial number of DNA copies amplified\n",
        "  \n",
        "  Extended Summary:\n",
        "  -----------------\n",
        "  This function takes an RPA image stack as an input and returns the number of \n",
        "  amplification spots. Accuracy requires the image stack input has been \n",
        "  previously processed with background subtraction and gaussian filter \n",
        "  functions. The number of amplification spots is compared against a standard \n",
        "  curve and the number of initial DNA copies is also returned. Datasets with \n",
        "  average final frame intensities greater than 350 are not counted as they are\n",
        "  subject to inaccurate results.\n",
        "  \n",
        "  Parameters:\n",
        "  -----------\n",
        "  Data_gauss: numpy.ndarray\n",
        "              [number of images, number of pixels rows, number of pixel columns]\n",
        "\n",
        "  Returns:\n",
        "  --------\n",
        "  if average final frame intensity > 350: \n",
        "    Returns: 'Final frame intensity too high, initial DNA count outside of range of \n",
        "            standard curve (25-1000 copies). Repeat RPA at a higher dilution'\n",
        "\n",
        "  if average final frame intensity < 350 and calculated spot count > 30.249:\n",
        "    Returns: Spot count, \n",
        "             'Spot count outside range of standard curve (25-1000 copies), repeat \n",
        "             RPA at a higher dilution.',\n",
        "             Plot of the standard curve and the spot count result\n",
        "\n",
        "  if average final frame intensity < 350 and calculated spot count < 30.249:\n",
        "    Returns: Spot count,\n",
        "             log (Initial DNA copies) calculated from standard curve,\n",
        "             Initial number of DNA copies,\n",
        "             Plot of the standard curve and the spot count result\n",
        "\n",
        "  Example:\n",
        "  --------\n",
        "  >>>spot_result(Data_gauss)\n",
        "\n",
        "  \"\"\"\n",
        "  #define spot detector parameters\n",
        "  min_distance = 4\n",
        "  threshold_rel = 0.25\n",
        "\n",
        "  #number of images to iterate over\n",
        "  n_images = np.shape(Data_gauss)[0]\n",
        "\n",
        "  #initialize spot counter\n",
        "  n_spots = np.zeros(n_images)\n",
        "\n",
        "  #intensity of last frame\n",
        "  final_frame_intensity = np.average(Data_gauss[n_images-1,:,:])\n",
        "\n",
        "  #spot counter\n",
        "  for i in range (0, n_images-1):\n",
        "    im = Data_gauss[i,:,:]\n",
        "    maxima = peak_local_max(im, min_distance, threshold_rel = threshold_rel)\n",
        "    n_maxima = np.shape(maxima)[0]\n",
        "    n_spots[i] = n_maxima\n",
        "  spot_count = np.average(n_spots[n_images-102:n_images-2])\n",
        "\n",
        "  #standard curve\n",
        "  cDNA = [25, 50, 100, 500, 1000]\n",
        "  logcDNA = np.log10(cDNA)\n",
        "  avg = [2, 2.01, 6.48, 25.09, 31.33]\n",
        "  stdev = [0, 1.72, 2.18, 10.76, 0.25]\n",
        "  slope, intercept, r_value, p_value, std_err = stats.linregress(logcDNA, avg)\n",
        "  standard_curve = slope*logcDNA + intercept\n",
        "\n",
        "  max_spot_count = slope*3.0 + intercept\n",
        "\n",
        "  #initial DNA calculations from standard curve\n",
        "  log_initialcDNA = (spot_count - intercept)/slope\n",
        "  n_initial_DNA = round(10**log_initialcDNA)\n",
        "  \n",
        "  if final_frame_intensity > 350:\n",
        "    print('Final frame intensity too high, initial DNA count outside of range of standard curve (25-1000 copies). Repeat RPA at a higher dilution')\n",
        "  else:\n",
        "    if spot_count > max_spot_count:\n",
        "      print('Spot count:', round(spot_count))\n",
        "      print('Spot count outside range of standard curve, repeat RPA at a higher dilution.')\n",
        "      plt.plot(logcDNA, standard_curve, label='Standard Curve', color='b')\n",
        "      plt.plot(logcDNA, avg, 'o',label='RPA standards', color='b')\n",
        "      plt.errorbar(logcDNA, avg, stdev, marker='o', capsize=5, fmt='none', ecolor='b')\n",
        "      plt.plot(log_initialcDNA, spot_count, marker='o', color = 'r', label='RPA spot count')\n",
        "      plt.xlabel('log (Initial DNA Copies)')\n",
        "      plt.ylabel('RPA Spot Count')\n",
        "      plt.title('RPA Standard Curve: cDNA')\n",
        "      plt.legend()\n",
        "    else:\n",
        "      print('Spot count:', round(spot_count))\n",
        "      print('log (Initial DNA copies):', round(log_initialcDNA,2))\n",
        "      print('Initial number of DNA copies:', n_initial_DNA)\n",
        "      plt.plot(logcDNA, standard_curve, label='Standard Curve', color='b')\n",
        "      plt.plot(logcDNA, avg, 'o',label='RPA standards', color='b')\n",
        "      plt.errorbar(logcDNA, avg, stdev, marker='o', capsize=5, fmt='none', ecolor='b')\n",
        "      plt.plot(log_initialcDNA, spot_count, marker='o', color = 'r', label='RPA spot count')\n",
        "      plt.xlabel('log ( Initial DNA Copies )')\n",
        "      plt.ylabel('RPA Spot Count')\n",
        "      plt.title('RPA Standard Curve: cDNA')\n",
        "      plt.legend()"
      ],
      "execution_count": null,
      "outputs": []
    },
    {
      "cell_type": "markdown",
      "metadata": {
        "id": "ccYh1IRYpRku"
      },
      "source": [
        "Workflow"
      ]
    },
    {
      "cell_type": "code",
      "metadata": {
        "id": "SNscJ3uGQMjU"
      },
      "source": [
        "DataPath=[\n",
        "    '/content/drive/MyDrive/RPA-Spot-Detection/DATA_For_Sharing/example 1- 25cp.tif',\n",
        "    '/content/drive/MyDrive/RPA-Spot-Detection/DATA_For_Sharing/example 2- 50cp.tif','/content/drive/MyDrive/RPA-Spot-Detection/DATA_For_Sharing/example 3- 100cp.tif',\n",
        "    '/content/drive/MyDrive/RPA-Spot-Detection/DATA_For_Sharing/example 4- 500cp.tif','/content/drive/MyDrive/RPA-Spot-Detection/DATA_For_Sharing/example 5- 1000cp.tif',\n",
        "    '/content/drive/MyDrive/RPA-Spot-Detection/DATA_For_Sharing/example 6- 10000cp.tif'\n",
        "]"
      ],
      "execution_count": null,
      "outputs": []
    },
    {
      "cell_type": "code",
      "metadata": {
        "id": "-vZoAWPnVlz5"
      },
      "source": [
        "Data = ImportTifData(DataPath[2]) #Change index to view other datasets range 0-5\n"
      ],
      "execution_count": null,
      "outputs": []
    },
    {
      "cell_type": "code",
      "metadata": {
        "id": "ZE-eimbnSs6u"
      },
      "source": [
        "Data_adj = backgroundSub(Data) #Background Subtraction"
      ],
      "execution_count": null,
      "outputs": []
    },
    {
      "cell_type": "code",
      "metadata": {
        "id": "0tgNwrKCSy6d"
      },
      "source": [
        "Data_gauss = gaussian(Data_adj,1.3) #Gaussian Filter"
      ],
      "execution_count": null,
      "outputs": []
    },
    {
      "cell_type": "code",
      "metadata": {
        "colab": {
          "base_uri": "https://localhost:8080/",
          "height": 280,
          "referenced_widgets": [
            "cb026a72983c4b958a609f185110d33c",
            "1b241a8d03984f798ff6500aac936de9",
            "855c5bd0fa0f4025b38d939096b2ae3c",
            "61faa85354134855b41a3e40462803b6",
            "30b5f5dc5a134931b882b2ff21f0d9f9",
            "21803194f60a45ac81738ab352c4b841",
            "256ab307be8f4e6181cd21d4efecb469"
          ]
        },
        "id": "egEunbyqS8Ub",
        "outputId": "3c7e886b-4075-4bcc-e57e-51429e1b4013"
      },
      "source": [
        "spot_display(Data_gauss) #Spot Display with local maximum overlay and slider between frames"
      ],
      "execution_count": null,
      "outputs": [
        {
          "output_type": "display_data",
          "data": {
            "application/vnd.jupyter.widget-view+json": {
              "model_id": "cb026a72983c4b958a609f185110d33c",
              "version_minor": 0,
              "version_major": 2
            },
            "text/plain": [
              "interactive(children=(IntSlider(value=590, description='i', max=1199, step=10), Output()), _dom_classes=('widg…"
            ]
          },
          "metadata": {
            "tags": []
          }
        }
      ]
    },
    {
      "cell_type": "code",
      "metadata": {
        "colab": {
          "base_uri": "https://localhost:8080/",
          "height": 348
        },
        "id": "SePbjh-oTDY2",
        "outputId": "938f1fc3-4945-461b-c10c-e1e0a7a342eb"
      },
      "source": [
        "spot_result(Data_gauss) #Spot counting result, comparison with standard curve."
      ],
      "execution_count": null,
      "outputs": [
        {
          "output_type": "stream",
          "text": [
            "Spot count: 4\n",
            "log (Initial DNA copies): 1.7\n",
            "Initial number of DNA copies: 51\n"
          ],
          "name": "stdout"
        },
        {
          "output_type": "display_data",
          "data": {
            "image/png": "[encoded data removed]",
            "text/plain": [
              "<Figure size 432x288 with 1 Axes>"
            ]
          },
          "metadata": {
            "tags": [],
            "needs_background": "light"
          }
        }
      ]
    },
    {
      "cell_type": "code",
      "metadata": {
        "id": "WyAaQhfrTGR-"
      },
      "source": [
        ""
      ],
      "execution_count": null,
      "outputs": []
    }
  ]
}