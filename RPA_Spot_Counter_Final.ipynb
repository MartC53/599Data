{
  "nbformat": 4,
  "nbformat_minor": 0,
  "metadata": {
    "colab": {
      "name": "RPA Spot Counter_Final.ipynb",
      "provenance": [],
      "include_colab_link": true
    },
    "kernelspec": {
      "name": "python3",
      "display_name": "Python 3"
    },
    "language_info": {
      "name": "python"
    },
    "widgets": {
      "application/vnd.jupyter.widget-state+json": {
        "47753aa4eb3a44c9a84ab2c7dc5c1869": {
          "model_module": "@jupyter-widgets/controls",
          "model_name": "VBoxModel",
          "state": {
            "_view_name": "VBoxView",
            "_dom_classes": [
              "widget-interact"
            ],
            "_model_name": "VBoxModel",
            "_view_module": "@jupyter-widgets/controls",
            "_model_module_version": "1.5.0",
            "_view_count": null,
            "_view_module_version": "1.5.0",
            "box_style": "",
            "layout": "IPY_MODEL_9aaf6b6b9e5c40a6be1a433510478e91",
            "_model_module": "@jupyter-widgets/controls",
            "children": [
              "IPY_MODEL_afc918bb2cc44e6d8d68ced3ae36e5c6",
              "IPY_MODEL_791b3d8e4ab541f19adc78fe48adb981"
            ]
          }
        },
        "9aaf6b6b9e5c40a6be1a433510478e91": {
          "model_module": "@jupyter-widgets/base",
          "model_name": "LayoutModel",
          "state": {
            "_view_name": "LayoutView",
            "grid_template_rows": null,
            "right": null,
            "justify_content": null,
            "_view_module": "@jupyter-widgets/base",
            "overflow": null,
            "_model_module_version": "1.2.0",
            "_view_count": null,
            "flex_flow": null,
            "width": null,
            "min_width": null,
            "border": null,
            "align_items": null,
            "bottom": null,
            "_model_module": "@jupyter-widgets/base",
            "top": null,
            "grid_column": null,
            "overflow_y": null,
            "overflow_x": null,
            "grid_auto_flow": null,
            "grid_area": null,
            "grid_template_columns": null,
            "flex": null,
            "_model_name": "LayoutModel",
            "justify_items": null,
            "grid_row": null,
            "max_height": null,
            "align_content": null,
            "visibility": null,
            "align_self": null,
            "height": null,
            "min_height": null,
            "padding": null,
            "grid_auto_rows": null,
            "grid_gap": null,
            "max_width": null,
            "order": null,
            "_view_module_version": "1.2.0",
            "grid_template_areas": null,
            "object_position": null,
            "object_fit": null,
            "grid_auto_columns": null,
            "margin": null,
            "display": null,
            "left": null
          }
        },
        "afc918bb2cc44e6d8d68ced3ae36e5c6": {
          "model_module": "@jupyter-widgets/controls",
          "model_name": "IntSliderModel",
          "state": {
            "_view_name": "IntSliderView",
            "style": "IPY_MODEL_022f4658eb9d422b906ea0b18964f828",
            "_dom_classes": [],
            "description": "i",
            "step": 10,
            "_model_name": "IntSliderModel",
            "orientation": "horizontal",
            "max": 1199,
            "_view_module": "@jupyter-widgets/controls",
            "_model_module_version": "1.5.0",
            "value": 590,
            "_view_count": null,
            "disabled": false,
            "_view_module_version": "1.5.0",
            "min": 0,
            "continuous_update": true,
            "readout_format": "d",
            "description_tooltip": null,
            "readout": true,
            "_model_module": "@jupyter-widgets/controls",
            "layout": "IPY_MODEL_29692a19c8de4af694ce4c8d1b840e6b"
          }
        },
        "791b3d8e4ab541f19adc78fe48adb981": {
          "model_module": "@jupyter-widgets/output",
          "model_name": "OutputModel",
          "state": {
            "_view_name": "OutputView",
            "msg_id": "",
            "_dom_classes": [],
            "_model_name": "OutputModel",
            "outputs": [
              {
                "output_type": "display_data",
                "metadata": {
                  "tags": [],
                  "needs_background": "light"
                },
                "image/png": "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\n",
                "text/plain": "<Figure size 432x288 with 1 Axes>"
              }
            ],
            "_view_module": "@jupyter-widgets/output",
            "_model_module_version": "1.0.0",
            "_view_count": null,
            "_view_module_version": "1.0.0",
            "layout": "IPY_MODEL_71b770bc3ea3469b907ed0972c7d6546",
            "_model_module": "@jupyter-widgets/output"
          }
        },
        "022f4658eb9d422b906ea0b18964f828": {
          "model_module": "@jupyter-widgets/controls",
          "model_name": "SliderStyleModel",
          "state": {
            "_view_name": "StyleView",
            "handle_color": null,
            "_model_name": "SliderStyleModel",
            "description_width": "",
            "_view_module": "@jupyter-widgets/base",
            "_model_module_version": "1.5.0",
            "_view_count": null,
            "_view_module_version": "1.2.0",
            "_model_module": "@jupyter-widgets/controls"
          }
        },
        "29692a19c8de4af694ce4c8d1b840e6b": {
          "model_module": "@jupyter-widgets/base",
          "model_name": "LayoutModel",
          "state": {
            "_view_name": "LayoutView",
            "grid_template_rows": null,
            "right": null,
            "justify_content": null,
            "_view_module": "@jupyter-widgets/base",
            "overflow": null,
            "_model_module_version": "1.2.0",
            "_view_count": null,
            "flex_flow": null,
            "width": null,
            "min_width": null,
            "border": null,
            "align_items": null,
            "bottom": null,
            "_model_module": "@jupyter-widgets/base",
            "top": null,
            "grid_column": null,
            "overflow_y": null,
            "overflow_x": null,
            "grid_auto_flow": null,
            "grid_area": null,
            "grid_template_columns": null,
            "flex": null,
            "_model_name": "LayoutModel",
            "justify_items": null,
            "grid_row": null,
            "max_height": null,
            "align_content": null,
            "visibility": null,
            "align_self": null,
            "height": null,
            "min_height": null,
            "padding": null,
            "grid_auto_rows": null,
            "grid_gap": null,
            "max_width": null,
            "order": null,
            "_view_module_version": "1.2.0",
            "grid_template_areas": null,
            "object_position": null,
            "object_fit": null,
            "grid_auto_columns": null,
            "margin": null,
            "display": null,
            "left": null
          }
        },
        "71b770bc3ea3469b907ed0972c7d6546": {
          "model_module": "@jupyter-widgets/base",
          "model_name": "LayoutModel",
          "state": {
            "_view_name": "LayoutView",
            "grid_template_rows": null,
            "right": null,
            "justify_content": null,
            "_view_module": "@jupyter-widgets/base",
            "overflow": null,
            "_model_module_version": "1.2.0",
            "_view_count": null,
            "flex_flow": null,
            "width": null,
            "min_width": null,
            "border": null,
            "align_items": null,
            "bottom": null,
            "_model_module": "@jupyter-widgets/base",
            "top": null,
            "grid_column": null,
            "overflow_y": null,
            "overflow_x": null,
            "grid_auto_flow": null,
            "grid_area": null,
            "grid_template_columns": null,
            "flex": null,
            "_model_name": "LayoutModel",
            "justify_items": null,
            "grid_row": null,
            "max_height": null,
            "align_content": null,
            "visibility": null,
            "align_self": null,
            "height": null,
            "min_height": null,
            "padding": null,
            "grid_auto_rows": null,
            "grid_gap": null,
            "max_width": null,
            "order": null,
            "_view_module_version": "1.2.0",
            "grid_template_areas": null,
            "object_position": null,
            "object_fit": null,
            "grid_auto_columns": null,
            "margin": null,
            "display": null,
            "left": null
          }
        }
      }
    }
  },
  "cells": [
    {
      "cell_type": "markdown",
      "metadata": {
        "id": "view-in-github",
        "colab_type": "text"
      },
      "source": [
        "<a href=\"https://colab.research.google.com/github/MartC53/599Data/blob/main/RPA_Spot_Counter_Final.ipynb\" target=\"_parent\"><img src=\"https://colab.research.google.com/assets/colab-badge.svg\" alt=\"Open In Colab\"/></a>"
      ]
    },
    {
      "cell_type": "markdown",
      "metadata": {
        "id": "4DsazSptPzMH"
      },
      "source": [
        "RPA Spot detection "
      ]
    },
    {
      "cell_type": "code",
      "metadata": {
        "id": "ldzrKBagPtxB",
        "colab": {
          "base_uri": "https://localhost:8080/"
        },
        "outputId": "e7734f4a-4298-44dc-b4ab-463837bc7009"
      },
      "source": [
        "import numpy as np\n",
        "import matplotlib.pyplot as plt\n",
        "from skimage import io\n",
        "from ipywidgets import interact\n",
        "from skimage.filters import gaussian\n",
        "from skimage.feature import peak_local_max\n",
        "from scipy import stats\n",
        "from google.colab import drive\n",
        "\n",
        "#Mount drive\n",
        "drive.mount('/content/drive', force_remount=True)"
      ],
      "execution_count": 18,
      "outputs": [
        {
          "output_type": "stream",
          "text": [
            "Mounted at /content/drive\n"
          ],
          "name": "stdout"
        }
      ]
    },
    {
      "cell_type": "markdown",
      "metadata": {
        "id": "cN0N94klP7p8"
      },
      "source": [
        "Functions"
      ]
    },
    {
      "cell_type": "code",
      "metadata": {
        "id": "-cOMrSexQgwc"
      },
      "source": [
        "def ImportTifData(path):\n",
        "    \"\"\"Imports the example data set array as tiff files and returns as a \n",
        "  numpy array and the dimensions of the array.\n",
        "  Extended Summary:\n",
        "  -----------------\n",
        "\n",
        "  This function takes an array that contains the paths of the example data set\n",
        "  and returns the tiff data as an array. This requires access to the \"Data for \n",
        "  Sharing\" folder in google drive. The array contains the path of all the images\n",
        "  of interest for a demo of the algorithm. It also return the number of images \n",
        "  in the tif stack, lenght of image, and width of image.\n",
        "\n",
        "  String contains index of images[25cp, 50cp, 100cp, 500cp, 1000cp, 10000cp]\n",
        "  \n",
        "  Parameters:\n",
        "  -----------\n",
        "  Path: str()\n",
        "              sting containing the path of the images\n",
        "  Returns:\n",
        "  --------\n",
        "    Returns: np.array (tiff image data as a 3D numpy array)\n",
        "    Returns: np.array ([n_images, length, width])\n",
        "  Example:\n",
        "  --------\n",
        "  >>>ImportTifData(DataPath)\n",
        "  \"\"\"\n",
        "    Data = io.imread(path)\n",
        "    [n_images, length, width] = np.shape(Data)\n",
        "    return Data"
      ],
      "execution_count": 19,
      "outputs": []
    },
    {
      "cell_type": "code",
      "metadata": {
        "id": "d3bRNBiNQN06"
      },
      "source": [
        "def backgroundSub(Data):\n",
        "  \"\"\"Remove the background utilizng the average of 240 frames  \n",
        "  Extended Summary: \n",
        "  -----------------\n",
        "  This funciton will take the first 240 frames, average the data, then subtract\n",
        "  it from the entire data set creating a backgorund removal dataset. \n",
        "\n",
        "  Parameters:\n",
        "  -----------\n",
        "  Data: numpy.ndarray\n",
        "        [number of images, number of pixel rows, number of pixel columns]\n",
        "\n",
        "  Returns:\n",
        "  --------\n",
        "    Data_adj: numpy.ndarray\n",
        "        [number of images, number of pixel rows, number of pixel columns] \n",
        "\n",
        "  Example:\n",
        "  --------\n",
        "  >>>background(Data)\n",
        "  \n",
        "  \"\"\"\n",
        "  import numpy as np\n",
        "  [n_images, length, width] = np.shape(Data)\n",
        "\n",
        "  background = np.zeros((length, width))\n",
        "  n_bg = 240\n",
        "\n",
        "  for i in range (0, n_bg):\n",
        "    background = background + Data[i,:,:]\n",
        "  background = background / n_bg\n",
        "\n",
        "  Data_adj = np.zeros((n_images, length, width))\n",
        "  for i in range (0, n_images-1):\n",
        "    Data_adj[i,:,:] = Data[i,:,:] - background\n",
        "  Data_adj[Data_adj < 0] = 0\n",
        "  return Data_adj"
      ],
      "execution_count": 20,
      "outputs": []
    },
    {
      "cell_type": "code",
      "metadata": {
        "id": "BMVOl8StPwSj"
      },
      "source": [
        "def spot_display(Data_gauss):\n",
        "  \"\"\"Show every tenth frame of the dataset with locations of spots detected\n",
        "\n",
        "  Extended Summary:\n",
        "  -----------------\n",
        "  This function displays an image stack with a slider to move between every \n",
        "  tenth frame. Locations of spots detected in each frame are shown as red dots.\n",
        "\n",
        "  Parameters:\n",
        "  -----------\n",
        "  Data_gauss: numpy.ndarray\n",
        "              [number of images, number of pixels rows, number of pixel columns]\n",
        "  \n",
        "  Returns:\n",
        "  --------\n",
        "  Interactive graph object with slider between frames, locations of detected \n",
        "  spots as red dots.\n",
        "\n",
        "  Example:\n",
        "  --------\n",
        "  >>>spot_detection(Data_gauss)\n",
        "\n",
        "  \"\"\"\n",
        "  #define spot detector parameters\n",
        "  min_distance = 4\n",
        "  threshold_rel = 0.25\n",
        "\n",
        "  #number of images to iterate over\n",
        "  n_images = np.shape(Data_gauss)[0]\n",
        "\n",
        "  def slider(i):\n",
        "    plt.imshow(Data_gauss[i,:,:], cmap='gray')\n",
        "    plt.plot(peak_local_max(Data_gauss[i,:,:], min_distance, threshold_rel = threshold_rel)[:,1], peak_local_max(Data_gauss[i,:,:], min_distance, threshold_rel = threshold_rel)[:,0], 'r.')\n",
        "    plt.axis('off')\n",
        "  inc=10\n",
        "  interact(slider, i=(0, n_images-1, inc))"
      ],
      "execution_count": 21,
      "outputs": []
    },
    {
      "cell_type": "code",
      "metadata": {
        "id": "obPdx9cCQEW8"
      },
      "source": [
        "def spot_result(Data_gauss):\n",
        "  \"\"\"Counts the number of amplification spots in an RPA dataset and returns the \n",
        "    initial number of DNA copies amplified\n",
        "  \n",
        "  Extended Summary:\n",
        "  -----------------\n",
        "  This function takes an RPA image stack as an input and returns the number of \n",
        "  amplification spots. Accuracy requires the image stack input has been \n",
        "  previously processed with background subtraction and gaussian filter \n",
        "  functions. The number of amplification spots is compared against a standard \n",
        "  curve and the number of initial DNA copies is also returned. Datasets with \n",
        "  average final frame intensities greater than 350 are not counted as they are\n",
        "  subject to inaccurate results.\n",
        "  \n",
        "  Parameters:\n",
        "  -----------\n",
        "  Data_gauss: numpy.ndarray\n",
        "              [number of images, number of pixels rows, number of pixel columns]\n",
        "\n",
        "  Returns:\n",
        "  --------\n",
        "  if average final frame intensity > 350: \n",
        "    Returns: 'Final frame intensity too high, initial DNA count outside of range of \n",
        "            standard curve (25-1000 copies). Repeat RPA at a higher dilution'\n",
        "\n",
        "  if average final frame intensity < 350 and calculated spot count > 30.249:\n",
        "    Returns: Spot count, \n",
        "             'Spot count outside range of standard curve (25-1000 copies), repeat \n",
        "             RPA at a higher dilution.',\n",
        "             Plot of the standard curve and the spot count result\n",
        "\n",
        "  if average final frame intensity < 350 and calculated spot count < 30.249:\n",
        "    Returns: Spot count,\n",
        "             log (Initial DNA copies) calculated from standard curve,\n",
        "             Initial number of DNA copies,\n",
        "             Plot of the standard curve and the spot count result\n",
        "\n",
        "  Example:\n",
        "  --------\n",
        "  >>>spot_result(Data_gauss)\n",
        "\n",
        "  \"\"\"\n",
        "  #define spot detector parameters\n",
        "  min_distance = 4\n",
        "  threshold_rel = 0.25\n",
        "\n",
        "  #number of images to iterate over\n",
        "  n_images = np.shape(Data_gauss)[0]\n",
        "\n",
        "  #initialize spot counter\n",
        "  n_spots = np.zeros(n_images)\n",
        "\n",
        "  #intensity of last frame\n",
        "  final_frame_intensity = np.average(Data_gauss[n_images-1,:,:])\n",
        "\n",
        "  #spot counter\n",
        "  for i in range (0, n_images-1):\n",
        "    im = Data_gauss[i,:,:]\n",
        "    maxima = peak_local_max(im, min_distance, threshold_rel = threshold_rel)\n",
        "    n_maxima = np.shape(maxima)[0]\n",
        "    n_spots[i] = n_maxima\n",
        "  spot_count = np.average(n_spots[n_images-102:n_images-2])\n",
        "\n",
        "  #standard curve\n",
        "  cDNA = [25, 50, 100, 500, 1000]\n",
        "  logcDNA = np.log10(cDNA)\n",
        "  avg = [2, 2.01, 6.48, 25.09, 31.33]\n",
        "  stdev = [0, 1.72, 2.18, 10.76, 0.25]\n",
        "  slope, intercept, r_value, p_value, std_err = stats.linregress(logcDNA, avg)\n",
        "  standard_curve = slope*logcDNA + intercept\n",
        "\n",
        "  max_spot_count = slope*3.0 + intercept\n",
        "\n",
        "  #initial DNA calculations from standard curve\n",
        "  log_initialcDNA = (spot_count - intercept)/slope\n",
        "  n_initial_DNA = round(10**log_initialcDNA)\n",
        "  \n",
        "  if final_frame_intensity > 350:\n",
        "    print('Final frame intensity too high, initial DNA count outside of range of standard curve (25-1000 copies). Repeat RPA at a higher dilution')\n",
        "  else:\n",
        "    if spot_count > max_spot_count:\n",
        "      print('Spot count:', round(spot_count))\n",
        "      print('Spot count outside range of standard curve, repeat RPA at a higher dilution.')\n",
        "      plt.plot(logcDNA, standard_curve, label='Standard Curve', color='b')\n",
        "      plt.plot(logcDNA, avg, 'o',label='RPA standards', color='b')\n",
        "      plt.errorbar(logcDNA, avg, stdev, marker='o', capsize=5, fmt='none', ecolor='b')\n",
        "      plt.plot(log_initialcDNA, spot_count, marker='o', color = 'r', label='RPA spot count')\n",
        "      plt.xlabel('log (Initial DNA Copies)')\n",
        "      plt.ylabel('RPA Spot Count')\n",
        "      plt.title('RPA Standard Curve: cDNA')\n",
        "      plt.legend()\n",
        "    else:\n",
        "      print('Spot count:', round(spot_count))\n",
        "      print('log (Initial DNA copies):', round(log_initialcDNA,2))\n",
        "      print('Initial number of DNA copies:', n_initial_DNA)\n",
        "      plt.plot(logcDNA, standard_curve, label='Standard Curve', color='b')\n",
        "      plt.plot(logcDNA, avg, 'o',label='RPA standards', color='b')\n",
        "      plt.errorbar(logcDNA, avg, stdev, marker='o', capsize=5, fmt='none', ecolor='b')\n",
        "      plt.plot(log_initialcDNA, spot_count, marker='o', color = 'r', label='RPA spot count')\n",
        "      plt.xlabel('log ( Initial DNA Copies )')\n",
        "      plt.ylabel('RPA Spot Count')\n",
        "      plt.title('RPA Standard Curve: cDNA')\n",
        "      plt.legend()"
      ],
      "execution_count": 22,
      "outputs": []
    },
    {
      "cell_type": "code",
      "metadata": {
        "id": "SNscJ3uGQMjU"
      },
      "source": [
        "DataPath=[\n",
        "    '/content/drive/MyDrive/RPA-Spot-Detection/DATA_For_Sharing/example 1- 25cp.tif',\n",
        "    '/content/drive/MyDrive/RPA-Spot-Detection/DATA_For_Sharing/example 2- 50cp.tif','/content/drive/MyDrive/RPA-Spot-Detection/DATA_For_Sharing/example 3- 100cp.tif',\n",
        "    '/content/drive/MyDrive/RPA-Spot-Detection/DATA_For_Sharing/example 4- 500cp.tif','/content/drive/MyDrive/RPA-Spot-Detection/DATA_For_Sharing/example 5- 1000cp.tif',\n",
        "    '/content/drive/MyDrive/RPA-Spot-Detection/DATA_For_Sharing/example 6- 10000cp.tif'\n",
        "]"
      ],
      "execution_count": 41,
      "outputs": []
    },
    {
      "cell_type": "code",
      "metadata": {
        "id": "-vZoAWPnVlz5"
      },
      "source": [
        "Data = ImportTifData(DataPath[2]) #Change index to view other datasets range 0-5\n"
      ],
      "execution_count": 57,
      "outputs": []
    },
    {
      "cell_type": "code",
      "metadata": {
        "id": "ZE-eimbnSs6u"
      },
      "source": [
        "Data_adj = backgroundSub(Data)"
      ],
      "execution_count": 58,
      "outputs": []
    },
    {
      "cell_type": "code",
      "metadata": {
        "id": "0tgNwrKCSy6d"
      },
      "source": [
        "Data_gauss = gaussian(Data_adj,1.3)"
      ],
      "execution_count": 59,
      "outputs": []
    },
    {
      "cell_type": "code",
      "metadata": {
        "colab": {
          "base_uri": "https://localhost:8080/",
          "height": 280,
          "referenced_widgets": [
            "47753aa4eb3a44c9a84ab2c7dc5c1869",
            "9aaf6b6b9e5c40a6be1a433510478e91",
            "afc918bb2cc44e6d8d68ced3ae36e5c6",
            "791b3d8e4ab541f19adc78fe48adb981",
            "022f4658eb9d422b906ea0b18964f828",
            "29692a19c8de4af694ce4c8d1b840e6b",
            "71b770bc3ea3469b907ed0972c7d6546"
          ]
        },
        "id": "egEunbyqS8Ub",
        "outputId": "a738629f-3315-4fc9-dd75-e9ff8bbecc30"
      },
      "source": [
        "spot_display(Data_gauss)"
      ],
      "execution_count": 60,
      "outputs": [
        {
          "output_type": "display_data",
          "data": {
            "application/vnd.jupyter.widget-view+json": {
              "model_id": "47753aa4eb3a44c9a84ab2c7dc5c1869",
              "version_minor": 0,
              "version_major": 2
            },
            "text/plain": [
              "interactive(children=(IntSlider(value=590, description='i', max=1199, step=10), Output()), _dom_classes=('widg…"
            ]
          },
          "metadata": {
            "tags": []
          }
        }
      ]
    },
    {
      "cell_type": "code",
      "metadata": {
        "colab": {
          "base_uri": "https://localhost:8080/",
          "height": 350
        },
        "id": "SePbjh-oTDY2",
        "outputId": "f07fe7e3-60d8-4841-d8de-c56e2249bc40"
      },
      "source": [
        "spot_result(Data_gauss)"
      ],
      "execution_count": 61,
      "outputs": [
        {
          "output_type": "stream",
          "text": [
            "Spot count: 4\n",
            "log (Initial DNA copies): 1.7\n",
            "Initial number of DNA copies: 51\n"
          ],
          "name": "stdout"
        },
        {
          "output_type": "display_data",
          "data": {
            "image/png": "[encoded data removed]",
            "text/plain": [
              "<Figure size 432x288 with 1 Axes>"
            ]
          },
          "metadata": {
            "tags": [],
            "needs_background": "light"
          }
        }
      ]
    },
    {
      "cell_type": "code",
      "metadata": {
        "id": "WyAaQhfrTGR-"
      },
      "source": [
        ""
      ],
      "execution_count": 28,
      "outputs": []
    }
  ]
}